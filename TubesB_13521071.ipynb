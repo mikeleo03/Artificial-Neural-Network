{
 "cells": [
  {
   "cell_type": "code",
   "execution_count": 1,
   "metadata": {},
   "outputs": [],
   "source": [
    "import json\n",
    "import pandas as pd\n",
    "from IPython.display import display, Image\n",
    "from typing import TypedDict\n",
    "\n",
    "from sklearn.neural_network import MLPRegressor, MLPClassifier\n",
    "from sklearn.model_selection import train_test_split\n",
    "from sklearn.datasets import load_iris\n",
    "from sklearn.metrics import classification_report"
   ]
  },
  {
   "cell_type": "code",
   "execution_count": 2,
   "metadata": {},
   "outputs": [],
   "source": [
    "from lib.Sequential import Sequential\n",
    "from lib.Layer import Dense"
   ]
  },
  {
   "cell_type": "code",
   "execution_count": 3,
   "metadata": {},
   "outputs": [],
   "source": [
    "class JsonReader:\n",
    "    def __init__(self, filename: str):\n",
    "        self.filename = filename\n",
    "        self.data = None\n",
    "\n",
    "    def read(self):\n",
    "        with open(self.filename, 'r') as f:\n",
    "            self.data = json.load(f)\n",
    "        return self.data\n",
    "\n",
    "    def get(self, index: int|str):\n",
    "        return self.data[index]\n",
    "\n",
    "    def length(self):\n",
    "        return len(self.data)\n",
    "    \n",
    "class Layers(TypedDict):\n",
    "    number_of_neurons: int\n",
    "    activation_function : str\n",
    "\n",
    "class ModelData(TypedDict):\n",
    "    input_size: int\n",
    "    layers: Layers\n",
    "\n",
    "class LearningParameters(TypedDict): \n",
    "    learning_rate: float\n",
    "    batch_size: int\n",
    "    max_iteration: int\n",
    "    error_threshold: float\n",
    "\n",
    "class Case(TypedDict):\n",
    "    model: ModelData\n",
    "    input: list[list[list[float]]]\n",
    "    initial_weights: list[list[list[float]]]\n",
    "    target: list[list[list[float]]]\n",
    "    learning_parameters: LearningParameters\n",
    "    \n",
    "class Expect(TypedDict):\n",
    "    stopped_by: str\n",
    "    final_weights: list[list[list[float]]]\n",
    "    \n",
    "class ModelConfig(TypedDict):\n",
    "    case: Case\n",
    "    expect: Expect\n",
    "    \n",
    "class JsonParser:\n",
    "    def parse_model_config(self, json_path: str) -> ModelConfig:\n",
    "        model_config: ModelConfig = JsonReader(json_path).read()\n",
    "        return model_config"
   ]
  },
  {
   "cell_type": "code",
   "execution_count": 4,
   "metadata": {},
   "outputs": [],
   "source": [
    "class ModelFactory:\n",
    "    def build(self, model_config: ModelConfig) -> Sequential:\n",
    "        # Get the model case\n",
    "        case = model_config[\"case\"]\n",
    "        layers = case[\"model\"]\n",
    "        weights = case[\"initial_weights\"]\n",
    "        inputs = case[\"input\"]\n",
    "        \n",
    "        # Membangun model ANN\n",
    "        model = Sequential()\n",
    "        for i in range (len(layers['layers'])):\n",
    "            layer = layers['layers'][i]\n",
    "            weight = weights[i]\n",
    "            dense_layer = Dense(layer[\"number_of_neurons\"], activation=layer[\"activation_function\"])\n",
    "            dense_layer.build(weight)\n",
    "            model.add(dense_layer)\n",
    "        \n",
    "        return model\n",
    "    \n",
    "    def load(self, path: str) -> Sequential:\n",
    "        with open(path, 'rb') as f:\n",
    "            return pickle.load(f)"
   ]
  },
  {
   "cell_type": "code",
   "execution_count": 5,
   "metadata": {},
   "outputs": [],
   "source": [
    "class model_tester:\n",
    "    @staticmethod\n",
    "    def test(test_case: str):\n",
    "        model_config: ModelConfig = JsonParser().parse_model_config(test_case)\n",
    "        model_factory = ModelFactory()\n",
    "        model = model_factory.build(model_config)\n",
    "\n",
    "        case = model_config['case']\n",
    "        learning_parameters = case[\"learning_parameters\"]\n",
    "        data = case['input']\n",
    "        target = case['target']\n",
    "\n",
    "        stop_reason = model.fit(\n",
    "            data, \n",
    "            target, \n",
    "            epochs=learning_parameters['max_iteration'], \n",
    "            batch_size=learning_parameters['batch_size'], \n",
    "            learning_rate=learning_parameters['learning_rate'], \n",
    "            error_threshold=learning_parameters['error_threshold'], \n",
    "            random_state=42, \n",
    "            verbose=True\n",
    "        )\n",
    "        \n",
    "        print(\"\\n-=x=-=x=-=x=-=x=-=x=-=x=-=x=-=x=-=x=-=x=-=x=-=x=-=x=-=x=-=x=-=x=-=x=-=x=-=x=-=x=-=x=-=x=-=x=-=x=-=x=-=x=-=x=-=x=-=x=-=x=-\")\n",
    "        print(\"Model Summary\")\n",
    "        model.summary()\n",
    "        print(\"Expected final weights:\",\n",
    "            model_config['expect'].get(\"final_weights\"))\n",
    "\n",
    "        print(\"\\n-=x=-=x=-=x=-=x=-=x=-=x=-=x=-=x=-=x=-=x=-=x=-=x=-=x=-=x=-=x=-=x=-=x=-=x=-=x=-=x=-=x=-=x=-=x=-=x=-=x=-=x=-=x=-=x=-=x=-=x=-\")\n",
    "        print(stop_reason)\n",
    "\n",
    "        print(\"Expected stop reason: \", model_config['expect']['stopped_by'])"
   ]
  },
  {
   "cell_type": "code",
   "execution_count": 6,
   "metadata": {},
   "outputs": [
    {
     "name": "stdout",
     "output_type": "stream",
     "text": [
      "Epoch 1/1\n",
      "2/2 [==============================] - loss: 0.1108 - time: 0.0039 s\n",
      "\n",
      "-=x=-=x=-=x=-=x=-=x=-=x=-=x=-=x=-=x=-=x=-=x=-=x=-=x=-=x=-=x=-=x=-=x=-=x=-=x=-=x=-=x=-=x=-=x=-=x=-=x=-=x=-=x=-=x=-=x=-=x=-\n",
      "Model Summary\n",
      " Model: \"sequential\"\n",
      "-----------------------------------------------\n",
      " Layer (type)        Output Shape       Param #\n",
      "===============================================\n",
      " dense (Dense)       (None, 3)          9      \n",
      "===============================================\n",
      "Total params: 9\n",
      "\n",
      "-=x=-=x=-=x=-=x=-=x=-=x=-=x=-=x=-=x=-=x=-=x=-=x=-=x=-=x=-=x=-=x=-=x=-=x=-=x=-=x=-=x=-=x=-=x=-=x=-=x=-=x=-=x=-=x=-=x=-=x=-\n",
      "Layer Summary\n",
      "Layer\n",
      "activation = linear,\n",
      "weights =\n",
      "[[ 0.64  0.3  -0.89]\n",
      " [ 0.28 -0.7   0.37]],\n",
      "bias = [0.22 0.36 0.11]\n",
      "Expected final weights: [[[0.22, 0.36, 0.11], [0.64, 0.3, -0.89], [0.28, -0.7, 0.37]]]\n",
      "\n",
      "-=x=-=x=-=x=-=x=-=x=-=x=-=x=-=x=-=x=-=x=-=x=-=x=-=x=-=x=-=x=-=x=-=x=-=x=-=x=-=x=-=x=-=x=-=x=-=x=-=x=-=x=-=x=-=x=-=x=-=x=-\n",
      "[Stop] Maximum number of iteration reached.\n",
      "Expected stop reason:  max_iteration\n"
     ]
    }
   ],
   "source": [
    "model_name = 'test/linear.json'\n",
    "model_tester.test(model_name)"
   ]
  },
  {
   "cell_type": "code",
   "execution_count": 7,
   "metadata": {},
   "outputs": [
    {
     "name": "stdout",
     "output_type": "stream",
     "text": [
      "Epoch 1/1\n",
      "2/2 [==============================] - loss: 0.1108 - time: 0.0000 s\n",
      "\n",
      "-=x=-=x=-=x=-=x=-=x=-=x=-=x=-=x=-=x=-=x=-=x=-=x=-=x=-=x=-=x=-=x=-=x=-=x=-=x=-=x=-=x=-=x=-=x=-=x=-=x=-=x=-=x=-=x=-=x=-=x=-\n",
      "Model Summary\n",
      " Model: \"sequential\"\n",
      "-----------------------------------------------\n",
      " Layer (type)        Output Shape       Param #\n",
      "===============================================\n",
      " dense (Dense)       (None, 3)          9      \n",
      "===============================================\n",
      "Total params: 9\n",
      "\n",
      "-=x=-=x=-=x=-=x=-=x=-=x=-=x=-=x=-=x=-=x=-=x=-=x=-=x=-=x=-=x=-=x=-=x=-=x=-=x=-=x=-=x=-=x=-=x=-=x=-=x=-=x=-=x=-=x=-=x=-=x=-\n",
      "Layer Summary\n",
      "Layer\n",
      "activation = linear,\n",
      "weights =\n",
      "[[ 0.4024  0.201  -0.7019]\n",
      " [ 0.1018 -0.799   0.4987]],\n",
      "bias = [0.1012 0.3006 0.1991]\n",
      "Expected final weights: [[[0.1008, 0.3006, 0.1991], [0.402, 0.201, -0.7019], [0.101, -0.799, 0.4987]]]\n",
      "\n",
      "-=x=-=x=-=x=-=x=-=x=-=x=-=x=-=x=-=x=-=x=-=x=-=x=-=x=-=x=-=x=-=x=-=x=-=x=-=x=-=x=-=x=-=x=-=x=-=x=-=x=-=x=-=x=-=x=-=x=-=x=-\n",
      "[Stop] Maximum number of iteration reached.\n",
      "Expected stop reason:  max_iteration\n"
     ]
    }
   ],
   "source": [
    "model_name = 'test/linear_small_lr.json'\n",
    "model_tester.test(model_name)"
   ]
  },
  {
   "cell_type": "code",
   "execution_count": 8,
   "metadata": {},
   "outputs": [
    {
     "name": "stdout",
     "output_type": "stream",
     "text": [
      "Epoch 1/2\n",
      "2/2 [==============================] - loss: 0.1108 - time: 0.0000 s\n",
      "Epoch 2/2\n",
      "2/2 [==============================] - loss: 0.0303 - time: 0.0000 s\n",
      "\n",
      "-=x=-=x=-=x=-=x=-=x=-=x=-=x=-=x=-=x=-=x=-=x=-=x=-=x=-=x=-=x=-=x=-=x=-=x=-=x=-=x=-=x=-=x=-=x=-=x=-=x=-=x=-=x=-=x=-=x=-=x=-\n",
      "Model Summary\n",
      " Model: \"sequential\"\n",
      "-----------------------------------------------\n",
      " Layer (type)        Output Shape       Param #\n",
      "===============================================\n",
      " dense (Dense)       (None, 3)          9      \n",
      "===============================================\n",
      "Total params: 9\n",
      "\n",
      "-=x=-=x=-=x=-=x=-=x=-=x=-=x=-=x=-=x=-=x=-=x=-=x=-=x=-=x=-=x=-=x=-=x=-=x=-=x=-=x=-=x=-=x=-=x=-=x=-=x=-=x=-=x=-=x=-=x=-=x=-\n",
      "Layer Summary\n",
      "Layer\n",
      "activation = linear,\n",
      "weights =\n",
      "[[ 0.502  0.226 -0.789]\n",
      " [ 0.214 -0.718  0.427]],\n",
      "bias = [0.166 0.338 0.153]\n",
      "Expected final weights: [[[0.166, 0.338, 0.153], [0.502, 0.226, -0.789], [0.214, -0.718, 0.427]]]\n",
      "\n",
      "-=x=-=x=-=x=-=x=-=x=-=x=-=x=-=x=-=x=-=x=-=x=-=x=-=x=-=x=-=x=-=x=-=x=-=x=-=x=-=x=-=x=-=x=-=x=-=x=-=x=-=x=-=x=-=x=-=x=-=x=-\n",
      "[Stop] Maximum number of iteration reached.\n",
      "Expected stop reason:  max_iteration\n"
     ]
    }
   ],
   "source": [
    "model_name = 'test/linear_two_iteration.json'\n",
    "model_tester.test(model_name)"
   ]
  },
  {
   "cell_type": "code",
   "execution_count": null,
   "metadata": {},
   "outputs": [],
   "source": [
    "# Load dataset iris\n",
    "iris = load_iris()\n",
    "df = pd.DataFrame(iris.data, columns=iris.feature_names)\n",
    "df['target'] = pd.Series(iris.target)\n",
    "df"
   ]
  },
  {
   "cell_type": "code",
   "execution_count": null,
   "metadata": {},
   "outputs": [],
   "source": [
    "df['target'].value_counts()"
   ]
  },
  {
   "cell_type": "code",
   "execution_count": null,
   "metadata": {},
   "outputs": [],
   "source": [
    "# Melakukan splitting data train dan validation\n",
    "X_train, X_val, y_train, y_val = train_test_split(df[iris.feature_names], df['target'], test_size=0.3, random_state=42, stratify=df['target'])"
   ]
  },
  {
   "cell_type": "code",
   "execution_count": null,
   "metadata": {},
   "outputs": [],
   "source": [
    "print(X_train.shape, X_val.shape, y_train.shape, y_val.shape)"
   ]
  },
  {
   "cell_type": "code",
   "execution_count": null,
   "metadata": {},
   "outputs": [],
   "source": [
    "# Membangun model ANN\n",
    "model = Sequential()\n",
    "model.add(Dense(4, activation='sigmoid', input_shape=(X_train.shape[1],)))\n",
    "model.add(Dense(6, activation='sigmoid', input_shape=(4,)))\n",
    "model.add(Dense(3, activation='linear', input_shape=(6,)))"
   ]
  },
  {
   "cell_type": "code",
   "execution_count": null,
   "metadata": {},
   "outputs": [],
   "source": [
    "# Fit model, menjalankan 1000 epochs\n",
    "model.fit(X_train, y_train, epochs=1000, batch_size=4, learning_rate=0.1, error_threshold=0.3, random_state=42, verbose=True)"
   ]
  },
  {
   "cell_type": "code",
   "execution_count": null,
   "metadata": {},
   "outputs": [],
   "source": [
    "model.summary()"
   ]
  },
  {
   "cell_type": "code",
   "execution_count": null,
   "metadata": {},
   "outputs": [],
   "source": [
    "# Melakukan visualisasi model struktur jaringan\n",
    "model.visualize()\n",
    "\n",
    "# Mengambil gambar hasil visualisasi model untuk ditampilkan\n",
    "image_path = \"output/ffnn_graph.png\"\n",
    "display(Image(filename=image_path))"
   ]
  },
  {
   "cell_type": "code",
   "execution_count": null,
   "metadata": {},
   "outputs": [],
   "source": [
    "# Melakukan prediksi dan melihat hasil prediksi\n",
    "y_pred = model.predict(X_val)\n",
    "print(classification_report(y_val, y_pred))"
   ]
  },
  {
   "cell_type": "code",
   "execution_count": null,
   "metadata": {},
   "outputs": [],
   "source": [
    "# Menyimpan model yang telah dibuat dalam json\n",
    "model.save(\"iris_model\")"
   ]
  }
 ],
 "metadata": {
  "kernelspec": {
   "display_name": "Python 3",
   "language": "python",
   "name": "python3"
  },
  "language_info": {
   "codemirror_mode": {
    "name": "ipython",
    "version": 3
   },
   "file_extension": ".py",
   "mimetype": "text/x-python",
   "name": "python",
   "nbconvert_exporter": "python",
   "pygments_lexer": "ipython3",
   "version": "3.12.2"
  }
 },
 "nbformat": 4,
 "nbformat_minor": 2
}
